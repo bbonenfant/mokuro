{
 "nbformat": 4,
 "nbformat_minor": 0,
 "metadata": {
  "colab": {
   "provenance": [],
   "gpuType": "T4",
   "private_outputs": true,
   "cell_execution_strategy": "setup"
  },
  "kernelspec": {
   "name": "python3",
   "display_name": "Python 3"
  },
  "language_info": {
   "name": "python"
  },
  "accelerator": "GPU"
 },
 "cells": [
  {
   "cell_type": "code",
   "execution_count": null,
   "metadata": {
    "id": "ZiCW2vTJ7Big",
    "collapsed": true
   },
   "outputs": [],
   "source": "!pip install git+https://github.com/bbonenfant/mokuro > pip-logs.txt && echo \"Success!\""
  },
  {
   "cell_type": "markdown",
   "source": [
    "This should be an easy way to run the \"mokuro\" program on your manga volumes without going through the hassle of trying to install it on your personal computer. This uses a fork of the mokuro project to create files which can be read using this web app: https://bog.gy/mokuro\n",
    "\n",
    "Instructions:\n",
    "1. Click on the \"files\" button 📁 on the left sidebar to open the Files panel.\n",
    "2. Click the \"upload to session storage\" button\n",
    "<img src=\"data:image/svg+xml;base64,PHN2ZyBmaWxsPSIjODg4ODg4IiB2aWV3Qm94PSIwIDAgNjQgNjQiIHhtbG5zPSJodHRwOi8vd3d3LnczLm9yZy8yMDAwL3N2ZyI+PGcgc3Ryb2tlLXdpZHRoPSIwIj48L2c+PGcgc3Ryb2tlLWxpbmVjYXA9InJvdW5kIiBzdHJva2UtbGluZWpvaW49InJvdW5kIj48L2c+PGc+PHBhdGggZD0iTTQ4LjUsNTguNWgtNWEyLDIsMCwxLDEsMC00aDNWMjEuNTVsLTkuNC0xMkgxNy41djQ1SDM0LjU5YTIsMiwwLDAsMSwwLDRIMTUuNWEyLDIsMCwwLDEtMi0yVjcuNWEyLDIsMCwwLDEsMi0ySDM4LjA3YTIsMiwwLDAsMSwxLjU4Ljc3TDUwLjA4LDE5LjYzYTIsMiwwLDAsMSwuNDIsMS4yM1Y1Ni41QTIsMiwwLDAsMSw0OC41LDU4LjVaIj48L3BhdGg+PHBhdGggZD0iTTM3LjA3LDM4LjQ5YTIsMiwwLDAsMS0xLjQyLS41OEwzMiwzNC4yNmwtMy42NSwzLjY1YTIsMiwwLDAsMS0yLjgzLTIuODNMMzAuNTksMzBhMiwyLDAsMCwxLDIuODIsMGw1LjA3LDUuMDdhMiwyLDAsMCwxLDAsMi44M0EyLDIsMCwwLDEsMzcuMDcsMzguNDlaIj48L3BhdGg+PHBhdGggZD0iTTMyLDUwLjM2YTIsMiwwLDAsMS0yLTJWMzEuNDNhMiwyLDAsMCwxLDQsMFY0OC4zNkEyLDIsMCwwLDEsMzIsNTAuMzZaIj48L3BhdGg+PC9nPjwvc3ZnPg==\" width=\"22\"/>\n",
    "in the Files panel to upload your manga volume(s). You can only upload files, not folders, so you should create a ZIP file for each volume containing the volume's images. A CBZ file will also work.\n",
    "3. In the cell below this text box, change the file name to match the name of the ZIP file you uploaded. If processing multiple volumes, you can add additional file names separated by commas like so:\n",
    "`'manga-volume-(01).zip', 'manga-volume-(02).zip', ...`\n",
    "4. Run the cell below. There should be a \"play\" button (▶) to click on when hovering your mouse over the cell. You may see a popup warning you to review the notebook before running -- please do! After clicking the run button, you'll see some logs and then eventually a progress bar. Depending on the number of images, running this can take 5-10 minutes or even more.\n",
    "5. When complete, there should be new \"*.mbz.zip\" files in the Files panel for each processed volume. These are the mokuro output and can be downloaded by right-clicking on them.\n"
   ],
   "metadata": {
    "id": "gm3rt-YSV5L3"
   }
  },
  {
   "cell_type": "code",
   "source": [
    "import mokuro\n",
    "\n",
    "mokuro.run('manga-volume-(01).zip', disable_confirmation=True)"
   ],
   "metadata": {
    "id": "HctDM4dY707S"
   },
   "execution_count": null,
   "outputs": []
  }
 ]
}
