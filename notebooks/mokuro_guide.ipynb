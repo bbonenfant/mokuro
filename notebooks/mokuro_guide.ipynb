{
 "nbformat": 4,
 "nbformat_minor": 0,
 "metadata": {
  "colab": {
   "provenance": [],
   "gpuType": "T4",
   "private_outputs": true,
   "cell_execution_strategy": "setup"
  },
  "kernelspec": {
   "name": "python3",
   "display_name": "Python 3"
  },
  "language_info": {
   "name": "python"
  },
  "accelerator": "GPU"
 },
 "cells": [
  {
   "cell_type": "code",
   "execution_count": null,
   "metadata": {
    "id": "ZiCW2vTJ7Big",
    "collapsed": true
   },
   "outputs": [],
   "source": "!pip install git+https://github.com/bbonenfant/mokuro > pip-logs.txt && echo \"Success!\""
  },
  {
   "cell_type": "markdown",
   "source": [
    "This should be an easy way to run the \"mokuro\" program on your manga volumes without going through the hassel of trying to install it on your personal computer. This uses a fork of the mokuro project to create files which can be read using this web app: http://bog.gy/mokuro\n",
    "\n",
    "Instructions:\n",
    "1. Click on the \"files\" button 📁 on the left side bar to open the Files panel.\n",
    "2. Click the \"upload to session storage\" button in the Files panel to upload you manga volume(s). You can only upload files - not directories, so you should create a ZIP file for each volume containing the volume's images.\n",
    "3. In the cell below, change the file name so that it matches the name of the ZIP file you uploaded. If processing multiple volumes, you can add additional file names sseparated by columns like so:\n",
    "```python\n",
    "mokuro.run('manga-volume-(01).zip', 'manga-volume-(02).zip', ...)\n",
    "```\n",
    "4. Run the cell below. There should be a \"play\" button (▶) to click on when hovering your mouse over the cell. You'll see some logs and then eventually a progress bar. Depending on the number of images, running this could take 5-10 minutes or even more.\n",
    "5. When complete, there should be new \"*.mbz.zip\" files in the Files panel for each volume you processed. These are the mokuro output and can be downloaded by right-clicking on them.\n"
   ],
   "metadata": {
    "id": "gm3rt-YSV5L3"
   }
  },
  {
   "cell_type": "code",
   "source": [
    "import mokuro\n",
    "\n",
    "mokuro.run('manga-volume-(01).zip', disable_confirmation=True)"
   ],
   "metadata": {
    "id": "HctDM4dY707S"
   },
   "execution_count": null,
   "outputs": []
  }
 ]
}
